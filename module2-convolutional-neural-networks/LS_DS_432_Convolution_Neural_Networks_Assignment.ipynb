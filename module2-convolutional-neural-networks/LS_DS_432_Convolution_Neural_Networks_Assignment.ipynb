{
  "nbformat": 4,
  "nbformat_minor": 0,
  "metadata": {
    "kernelspec": {
      "name": "python3",
      "display_name": "Python 3"
    },
    "nteract": {
      "version": "0.23.1"
    },
    "colab": {
      "name": "LS_DS_432_Convolution_Neural_Networks_Assignment.ipynb",
      "provenance": [],
      "include_colab_link": true
    }
  },
  "cells": [
    {
      "cell_type": "markdown",
      "metadata": {
        "id": "view-in-github",
        "colab_type": "text"
      },
      "source": [
        "<a href=\"https://colab.research.google.com/github/dgansen/DS-Unit-4-Sprint-3-Deep-Learning/blob/main/module2-convolutional-neural-networks/LS_DS_432_Convolution_Neural_Networks_Assignment.ipynb\" target=\"_parent\"><img src=\"https://colab.research.google.com/assets/colab-badge.svg\" alt=\"Open In Colab\"/></a>"
      ]
    },
    {
      "cell_type": "markdown",
      "metadata": {
        "id": "kqqBwn6puTHx",
        "colab_type": "text"
      },
      "source": [
        "<img align=\"left\" src=\"https://lever-client-logos.s3.amazonaws.com/864372b1-534c-480e-acd5-9711f850815c-1524247202159.png\" width=200>\n",
        "<br></br>\n",
        "<br></br>\n",
        "\n",
        "## *Data Science Unit 4 Sprint 3 Assignment 2*\n",
        "# Convolutional Neural Networks (CNNs)"
      ]
    },
    {
      "cell_type": "markdown",
      "metadata": {
        "colab_type": "text",
        "id": "0lfZdD_cp1t5"
      },
      "source": [
        "# Assignment\n",
        "\n",
        "- <a href=\"#p1\">Part 1:</a> Pre-Trained Model\n",
        "- <a href=\"#p2\">Part 2:</a> Custom CNN Model\n",
        "- <a href=\"#p3\">Part 3:</a> CNN with Data Augmentation\n",
        "\n",
        "\n",
        "You will apply three different CNN models to a binary image classification model using Keras. Classify images of Mountains (`./data/train/mountain/*`) and images of forests (`./data/train/forest/*`). Treat mountains as the positive class (1) and the forest images as the negative (zero). \n",
        "\n",
        "|Mountain (+)|Forest (-)|\n",
        "|---|---|\n",
        "|![](https://github.com/dgansen/DS-Unit-4-Sprint-3-Deep-Learning/blob/main/module2-convolutional-neural-networks/data/train/mountain/art1131.jpg?raw=1)|![](https://github.com/dgansen/DS-Unit-4-Sprint-3-Deep-Learning/blob/main/module2-convolutional-neural-networks/data/validation/forest/cdmc317.jpg?raw=1)|\n",
        "\n",
        "The problem is relatively difficult given that the sample is tiny: there are about 350 observations per class. This sample size might be something that you can expect with prototyping an image classification problem/solution at work. Get accustomed to evaluating several different possible models."
      ]
    },
    {
      "cell_type": "markdown",
      "metadata": {
        "colab_type": "text",
        "id": "d8Z_xwh-uTH0"
      },
      "source": [
        "# Pre - Trained Model\n",
        "<a id=\"p1\"></a>\n",
        "\n",
        "Load a pretrained network from Keras, [ResNet50](https://tfhub.dev/google/imagenet/resnet_v1_50/classification/1) - a 50 layer deep network trained to recognize [1000 objects](https://storage.googleapis.com/download.tensorflow.org/data/ImageNetLabels.txt). Starting usage:\n",
        "\n",
        "```python\n",
        "import numpy as np\n",
        "\n",
        "from tensorflow.keras.applications.resnet50 import ResNet50\n",
        "from tensorflow.keras.preprocessing import image\n",
        "from tensorflow.keras.applications.resnet50 import preprocess_input, decode_predictions\n",
        "\n",
        "from tensorflow.keras.layers import Dense, GlobalAveragePooling2D\n",
        "from tensorflow.keras.models import Model # This is the functional API\n",
        "\n",
        "resnet = ResNet50(weights='imagenet', include_top=False)\n",
        "\n",
        "```\n",
        "\n",
        "The `include_top` parameter in `ResNet50` will remove the full connected layers from the ResNet model. The next step is to turn off the training of the ResNet layers. We want to use the learned parameters without updating them in future training passes. \n",
        "\n",
        "```python\n",
        "for layer in resnet.layers:\n",
        "    layer.trainable = False\n",
        "```\n",
        "\n",
        "Using the Keras functional API, we will need to additional additional full connected layers to our model. We we removed the top layers, we removed all preivous fully connected layers. In other words, we kept only the feature processing portions of our network. You can expert with additional layers beyond what's listed here. The `GlobalAveragePooling2D` layer functions as a really fancy flatten function by taking the average of each of the last convolutional layer outputs (which is two dimensional still). \n",
        "\n",
        "```python\n",
        "x = resnet.output\n",
        "x = GlobalAveragePooling2D()(x) # This layer is a really fancy flatten\n",
        "x = Dense(1024, activation='relu')(x)\n",
        "predictions = Dense(1, activation='sigmoid')(x)\n",
        "model = Model(resnet.input, predictions)\n",
        "```\n",
        "\n",
        "Your assignment is to apply the transfer learning above to classify images of Mountains (`./data/train/mountain/*`) and images of forests (`./data/train/forest/*`). Treat mountains as the positive class (1) and the forest images as the negative (zero). \n",
        "\n",
        "Steps to complete assignment: \n",
        "1. Load in Image Data into numpy arrays (`X`) \n",
        "2. Create a `y` for the labels\n",
        "3. Train your model with pre-trained layers from resnet\n",
        "4. Report your model's accuracy"
      ]
    },
    {
      "cell_type": "markdown",
      "metadata": {
        "id": "idaDuw0kuTH1",
        "colab_type": "text"
      },
      "source": [
        "## Load in Data\n",
        "\n",
        "This surprisingly more difficult than it seems, because you are working with directories of images instead of a single file. This boiler plate will help you download a zipped version of the directory of images. The directory is organized into \"train\" and \"validation\" which you can use inside an `ImageGenerator` class to stream batches of images thru your model.  \n"
      ]
    },
    {
      "cell_type": "markdown",
      "metadata": {
        "id": "nCfH6Hn7uTH2",
        "colab_type": "text"
      },
      "source": [
        "### Download & Summarize the Data\n",
        "\n",
        "This step is completed for you. Just run the cells and review the results. "
      ]
    },
    {
      "cell_type": "code",
      "metadata": {
        "id": "2Bivld0NuTH3",
        "colab_type": "code",
        "colab": {
          "base_uri": "https://localhost:8080/",
          "height": 51
        },
        "outputId": "9bd23473-f190-418e-be80-bad9a2e4bf96"
      },
      "source": [
        "import tensorflow as tf\n",
        "import os\n",
        "\n",
        "_URL = 'https://lambdaschool-data-science.s3.amazonaws.com/mountains_v_forest/mountain_v_forest_data.zip'\n",
        "\n",
        "path_to_zip = tf.keras.utils.get_file('./data.zip', origin=_URL, extract=True, cache_dir='./')\n",
        "PATH = os.path.join(os.path.dirname(path_to_zip), 'data')"
      ],
      "execution_count": 1,
      "outputs": [
        {
          "output_type": "stream",
          "text": [
            "Downloading data from https://lambdaschool-data-science.s3.amazonaws.com/mountains_v_forest/mountain_v_forest_data.zip\n",
            "375046144/375045706 [==============================] - 5s 0us/step\n"
          ],
          "name": "stdout"
        }
      ]
    },
    {
      "cell_type": "code",
      "metadata": {
        "id": "hRLi292DuTH8",
        "colab_type": "code",
        "colab": {}
      },
      "source": [
        "train_dir = os.path.join(PATH, 'train')\n",
        "validation_dir = os.path.join(PATH, 'validation')"
      ],
      "execution_count": 2,
      "outputs": []
    },
    {
      "cell_type": "code",
      "metadata": {
        "id": "1oWJ2xguuTID",
        "colab_type": "code",
        "colab": {}
      },
      "source": [
        "train_mountain_dir = os.path.join(train_dir, 'mountain')  # directory with our training cat pictures\n",
        "train_forest_dir = os.path.join(train_dir, 'forest')  # directory with our training dog pictures\n",
        "validation_mountain_dir = os.path.join(validation_dir, 'mountain')  # directory with our validation cat pictures\n",
        "validation_forest_dir = os.path.join(validation_dir, 'forest')  # directory with our validation dog pictures"
      ],
      "execution_count": 3,
      "outputs": []
    },
    {
      "cell_type": "code",
      "metadata": {
        "id": "RdJxCLp1AxV8",
        "colab_type": "code",
        "colab": {
          "base_uri": "https://localhost:8080/",
          "height": 35
        },
        "outputId": "999b8d9c-9c50-4144-d089-53ac09670798"
      },
      "source": [
        "train_mountain_dir"
      ],
      "execution_count": 4,
      "outputs": [
        {
          "output_type": "execute_result",
          "data": {
            "application/vnd.google.colaboratory.intrinsic": {
              "type": "string"
            },
            "text/plain": [
              "'./datasets/./data/train/mountain'"
            ]
          },
          "metadata": {
            "tags": []
          },
          "execution_count": 4
        }
      ]
    },
    {
      "cell_type": "code",
      "metadata": {
        "id": "QkYKCM2EuTIL",
        "colab_type": "code",
        "colab": {}
      },
      "source": [
        "num_mountain_tr = len(os.listdir(train_mountain_dir))\n",
        "num_forest_tr = len(os.listdir(train_forest_dir))\n",
        "\n",
        "num_mountain_val = len(os.listdir(validation_mountain_dir))\n",
        "num_forest_val = len(os.listdir(validation_forest_dir))\n",
        "\n",
        "total_train = num_mountain_tr + num_forest_tr\n",
        "total_val = num_mountain_val + num_forest_val"
      ],
      "execution_count": 5,
      "outputs": []
    },
    {
      "cell_type": "code",
      "metadata": {
        "id": "IBhOr_souTIS",
        "colab_type": "code",
        "colab": {
          "base_uri": "https://localhost:8080/",
          "height": 136
        },
        "outputId": "1bc0f002-14e8-4573-8b86-633035c51569"
      },
      "source": [
        "print('total training mountain images:', num_mountain_tr)\n",
        "print('total training forest images:', num_forest_tr)\n",
        "\n",
        "print('total validation mountain images:', num_mountain_val)\n",
        "print('total validation forest images:', num_forest_val)\n",
        "print(\"--\")\n",
        "print(\"Total training images:\", total_train)\n",
        "print(\"Total validation images:\", total_val)"
      ],
      "execution_count": 6,
      "outputs": [
        {
          "output_type": "stream",
          "text": [
            "total training mountain images: 296\n",
            "total training forest images: 326\n",
            "total validation mountain images: 125\n",
            "total validation forest images: 62\n",
            "--\n",
            "Total training images: 622\n",
            "Total validation images: 187\n"
          ],
          "name": "stdout"
        }
      ]
    },
    {
      "cell_type": "markdown",
      "metadata": {
        "id": "ViTMxMRauTIV",
        "colab_type": "text"
      },
      "source": [
        "### Keras `ImageGenerator` to Process the Data\n",
        "\n",
        "This step is completed for you, but please review the code. The `ImageGenerator` class reads in batches of data from a directory and pass them to the model one batch at a time. Just like large text files, this method is advantageous, because it stifles the need to load a bunch of images into memory. \n",
        "\n",
        "Check out the documentation for this class method: [Keras `ImageGenerator` Class](https://keras.io/preprocessing/image/#imagedatagenerator-class). You'll expand it's use in the third assignment objective."
      ]
    },
    {
      "cell_type": "code",
      "metadata": {
        "id": "6-QyLBhNuTIW",
        "colab_type": "code",
        "colab": {}
      },
      "source": [
        "batch_size = 16\n",
        "epochs = 50\n",
        "IMG_HEIGHT = 224\n",
        "IMG_WIDTH = 224"
      ],
      "execution_count": 7,
      "outputs": []
    },
    {
      "cell_type": "code",
      "metadata": {
        "id": "r9HLF47OuTIa",
        "colab_type": "code",
        "colab": {}
      },
      "source": [
        "from tensorflow.keras.preprocessing.image import ImageDataGenerator\n",
        "\n",
        "train_image_generator = ImageDataGenerator(rescale=1./255) # Generator for our training data\n",
        "validation_image_generator = ImageDataGenerator(rescale=1./255) # Generator for our validation data"
      ],
      "execution_count": 8,
      "outputs": []
    },
    {
      "cell_type": "code",
      "metadata": {
        "id": "OrjmrVVeuTIe",
        "colab_type": "code",
        "colab": {
          "base_uri": "https://localhost:8080/",
          "height": 34
        },
        "outputId": "81f06c81-4698-4502-db59-22ccb87ee4b4"
      },
      "source": [
        "train_data_gen = train_image_generator.flow_from_directory(batch_size=batch_size,\n",
        "                                                           directory=train_dir,\n",
        "                                                           shuffle=True,\n",
        "                                                           target_size=(IMG_HEIGHT, IMG_WIDTH),\n",
        "                                                           class_mode='binary')"
      ],
      "execution_count": 9,
      "outputs": [
        {
          "output_type": "stream",
          "text": [
            "Found 631 images belonging to 2 classes.\n"
          ],
          "name": "stdout"
        }
      ]
    },
    {
      "cell_type": "code",
      "metadata": {
        "id": "OeCCx7MsuTIi",
        "colab_type": "code",
        "colab": {
          "base_uri": "https://localhost:8080/",
          "height": 34
        },
        "outputId": "e2b79048-b644-42c6-8d86-44e0265feb82"
      },
      "source": [
        "val_data_gen = validation_image_generator.flow_from_directory(batch_size=batch_size,\n",
        "                                                              directory=validation_dir,\n",
        "                                                              target_size=(IMG_HEIGHT, IMG_WIDTH),\n",
        "                                                              class_mode='binary')"
      ],
      "execution_count": 10,
      "outputs": [
        {
          "output_type": "stream",
          "text": [
            "Found 195 images belonging to 2 classes.\n"
          ],
          "name": "stdout"
        }
      ]
    },
    {
      "cell_type": "markdown",
      "metadata": {
        "id": "zO51dfibuTIl",
        "colab_type": "text"
      },
      "source": [
        "## Instantiate Model"
      ]
    },
    {
      "cell_type": "code",
      "metadata": {
        "id": "yXUAqFLP7fhN",
        "colab_type": "code",
        "colab": {
          "base_uri": "https://localhost:8080/",
          "height": 51
        },
        "outputId": "842e8748-ff71-4558-8b71-cb60525f6fef"
      },
      "source": [
        "import numpy as np\n",
        " \n",
        "from tensorflow.keras.applications.resnet50 import ResNet50\n",
        "from tensorflow.keras.preprocessing import image\n",
        "from tensorflow.keras.applications.resnet50 import preprocess_input, decode_predictions\n",
        " \n",
        "from tensorflow.keras.layers import Dense, GlobalAveragePooling2D\n",
        "from tensorflow.keras.models import Model # This is the functional API\n",
        " \n",
        "resnet = ResNet50(weights='imagenet', include_top=False)"
      ],
      "execution_count": 11,
      "outputs": [
        {
          "output_type": "stream",
          "text": [
            "Downloading data from https://storage.googleapis.com/tensorflow/keras-applications/resnet/resnet50_weights_tf_dim_ordering_tf_kernels_notop.h5\n",
            "94773248/94765736 [==============================] - 1s 0us/step\n"
          ],
          "name": "stdout"
        }
      ]
    },
    {
      "cell_type": "code",
      "metadata": {
        "id": "OW2yeGa595em",
        "colab_type": "code",
        "colab": {}
      },
      "source": [
        "for layer in resnet.layers:\n",
        "    layer.trainable = False"
      ],
      "execution_count": 12,
      "outputs": []
    },
    {
      "cell_type": "code",
      "metadata": {
        "id": "whK3GWT_DKwe",
        "colab_type": "code",
        "colab": {}
      },
      "source": [
        "x = resnet.output\n",
        "x = GlobalAveragePooling2D()(x) # This layer is a really fancy flatten\n",
        "x = Dense(1024, activation='relu')(x)\n",
        "predictions = Dense(2, activation='sigmoid')(x)\n",
        "model = Model(resnet.input, predictions)"
      ],
      "execution_count": 13,
      "outputs": []
    },
    {
      "cell_type": "markdown",
      "metadata": {
        "id": "DKc3318muTIp",
        "colab_type": "text"
      },
      "source": [
        "## Fit Model"
      ]
    },
    {
      "cell_type": "code",
      "metadata": {
        "id": "PJwTt7D0c8DT",
        "colab_type": "code",
        "colab": {}
      },
      "source": [
        "model.compile(optimizer='adam',\n",
        "              loss='sparse_categorical_crossentropy',\n",
        "              metrics=['accuracy'])"
      ],
      "execution_count": 14,
      "outputs": []
    },
    {
      "cell_type": "code",
      "metadata": {
        "id": "xBM-xHHamMBS",
        "colab_type": "code",
        "colab": {
          "base_uri": "https://localhost:8080/",
          "height": 34
        },
        "outputId": "dc2da939-4db7-409b-85d9-4163cdb46f08"
      },
      "source": [
        "batch_size"
      ],
      "execution_count": 15,
      "outputs": [
        {
          "output_type": "execute_result",
          "data": {
            "text/plain": [
              "16"
            ]
          },
          "metadata": {
            "tags": []
          },
          "execution_count": 15
        }
      ]
    },
    {
      "cell_type": "code",
      "metadata": {
        "id": "rpgX6N5xuTIq",
        "colab_type": "code",
        "colab": {
          "base_uri": "https://localhost:8080/",
          "height": 1000
        },
        "outputId": "a0cbd017-5dee-4a00-c071-a68a4ac6150e"
      },
      "source": [
        "history = model.fit(\n",
        "    train_data_gen,\n",
        "    steps_per_epoch=total_train // batch_size,\n",
        "    epochs=epochs,\n",
        "    validation_data=val_data_gen,\n",
        "    validation_steps=total_val // batch_size\n",
        ")"
      ],
      "execution_count": 33,
      "outputs": [
        {
          "output_type": "stream",
          "text": [
            "Epoch 1/50\n",
            "38/38 [==============================] - 146s 4s/step - loss: 0.6958 - accuracy: 0.5292 - val_loss: 0.6935 - val_accuracy: 0.3580\n",
            "Epoch 2/50\n",
            "38/38 [==============================] - 148s 4s/step - loss: 0.6891 - accuracy: 0.5209 - val_loss: 0.7110 - val_accuracy: 0.3352\n",
            "Epoch 3/50\n",
            "38/38 [==============================] - 146s 4s/step - loss: 0.6582 - accuracy: 0.5259 - val_loss: 0.6898 - val_accuracy: 0.3352\n",
            "Epoch 4/50\n",
            "38/38 [==============================] - 147s 4s/step - loss: 0.6506 - accuracy: 0.5342 - val_loss: 0.6897 - val_accuracy: 0.5284\n",
            "Epoch 5/50\n",
            "38/38 [==============================] - 144s 4s/step - loss: 0.6085 - accuracy: 0.5342 - val_loss: 0.6666 - val_accuracy: 0.4205\n",
            "Epoch 6/50\n",
            "38/38 [==============================] - 148s 4s/step - loss: 0.5576 - accuracy: 0.6778 - val_loss: 0.4945 - val_accuracy: 0.6875\n",
            "Epoch 7/50\n",
            "38/38 [==============================] - 145s 4s/step - loss: 0.5943 - accuracy: 0.7262 - val_loss: 0.4125 - val_accuracy: 0.8239\n",
            "Epoch 8/50\n",
            "38/38 [==============================] - 145s 4s/step - loss: 0.5377 - accuracy: 0.7078 - val_loss: 0.3764 - val_accuracy: 0.7841\n",
            "Epoch 9/50\n",
            "38/38 [==============================] - 146s 4s/step - loss: 0.3636 - accuracy: 0.8364 - val_loss: 0.3114 - val_accuracy: 0.8977\n",
            "Epoch 10/50\n",
            "38/38 [==============================] - 150s 4s/step - loss: 0.3089 - accuracy: 0.8948 - val_loss: 0.4591 - val_accuracy: 0.8011\n",
            "Epoch 11/50\n",
            "38/38 [==============================] - 147s 4s/step - loss: 0.3382 - accuracy: 0.8598 - val_loss: 0.3430 - val_accuracy: 0.7784\n",
            "Epoch 12/50\n",
            "38/38 [==============================] - 145s 4s/step - loss: 0.3396 - accuracy: 0.8564 - val_loss: 0.3539 - val_accuracy: 0.7898\n",
            "Epoch 13/50\n",
            "38/38 [==============================] - 147s 4s/step - loss: 0.3015 - accuracy: 0.8982 - val_loss: 0.2477 - val_accuracy: 0.9318\n",
            "Epoch 14/50\n",
            "38/38 [==============================] - 151s 4s/step - loss: 0.2451 - accuracy: 0.9199 - val_loss: 0.2746 - val_accuracy: 0.9205\n",
            "Epoch 15/50\n",
            "38/38 [==============================] - 147s 4s/step - loss: 0.2371 - accuracy: 0.9232 - val_loss: 0.2175 - val_accuracy: 0.9432\n",
            "Epoch 16/50\n",
            "38/38 [==============================] - 146s 4s/step - loss: 0.2593 - accuracy: 0.8982 - val_loss: 0.2271 - val_accuracy: 0.9375\n",
            "Epoch 17/50\n",
            "38/38 [==============================] - 147s 4s/step - loss: 0.2649 - accuracy: 0.8881 - val_loss: 0.3585 - val_accuracy: 0.8409\n",
            "Epoch 18/50\n",
            "38/38 [==============================] - 145s 4s/step - loss: 0.3340 - accuracy: 0.8564 - val_loss: 0.3140 - val_accuracy: 0.8239\n",
            "Epoch 19/50\n",
            "38/38 [==============================] - 146s 4s/step - loss: 0.2306 - accuracy: 0.9149 - val_loss: 0.3515 - val_accuracy: 0.8409\n",
            "Epoch 20/50\n",
            "38/38 [==============================] - 148s 4s/step - loss: 0.2188 - accuracy: 0.9249 - val_loss: 0.1981 - val_accuracy: 0.9432\n",
            "Epoch 21/50\n",
            "38/38 [==============================] - 148s 4s/step - loss: 0.2149 - accuracy: 0.9199 - val_loss: 0.3121 - val_accuracy: 0.8693\n",
            "Epoch 22/50\n",
            "38/38 [==============================] - 151s 4s/step - loss: 0.1932 - accuracy: 0.9316 - val_loss: 0.3199 - val_accuracy: 0.8580\n",
            "Epoch 23/50\n",
            "38/38 [==============================] - 148s 4s/step - loss: 0.2175 - accuracy: 0.9082 - val_loss: 0.2278 - val_accuracy: 0.9318\n",
            "Epoch 24/50\n",
            "38/38 [==============================] - 145s 4s/step - loss: 0.2257 - accuracy: 0.9149 - val_loss: 0.9373 - val_accuracy: 0.6420\n",
            "Epoch 25/50\n",
            "38/38 [==============================] - 146s 4s/step - loss: 0.2002 - accuracy: 0.9265 - val_loss: 0.7640 - val_accuracy: 0.6648\n",
            "Epoch 26/50\n",
            "38/38 [==============================] - 150s 4s/step - loss: 0.2349 - accuracy: 0.8932 - val_loss: 0.2324 - val_accuracy: 0.9205\n",
            "Epoch 27/50\n",
            "38/38 [==============================] - 146s 4s/step - loss: 0.1720 - accuracy: 0.9349 - val_loss: 0.2762 - val_accuracy: 0.8977\n",
            "Epoch 28/50\n",
            "38/38 [==============================] - 150s 4s/step - loss: 0.1963 - accuracy: 0.9316 - val_loss: 0.2030 - val_accuracy: 0.9489\n",
            "Epoch 29/50\n",
            "38/38 [==============================] - 148s 4s/step - loss: 0.1873 - accuracy: 0.9349 - val_loss: 0.2027 - val_accuracy: 0.9602\n",
            "Epoch 30/50\n",
            "38/38 [==============================] - 151s 4s/step - loss: 0.1713 - accuracy: 0.9366 - val_loss: 0.1868 - val_accuracy: 0.9489\n",
            "Epoch 31/50\n",
            "38/38 [==============================] - 148s 4s/step - loss: 0.2243 - accuracy: 0.9149 - val_loss: 0.2211 - val_accuracy: 0.9261\n",
            "Epoch 32/50\n",
            "38/38 [==============================] - 147s 4s/step - loss: 0.1672 - accuracy: 0.9382 - val_loss: 0.1914 - val_accuracy: 0.9375\n",
            "Epoch 33/50\n",
            "38/38 [==============================] - 145s 4s/step - loss: 0.2184 - accuracy: 0.9249 - val_loss: 0.3386 - val_accuracy: 0.8580\n",
            "Epoch 34/50\n",
            "38/38 [==============================] - 148s 4s/step - loss: 0.1502 - accuracy: 0.9466 - val_loss: 0.1935 - val_accuracy: 0.9318\n",
            "Epoch 35/50\n",
            "38/38 [==============================] - 146s 4s/step - loss: 0.1691 - accuracy: 0.9299 - val_loss: 0.5527 - val_accuracy: 0.7727\n",
            "Epoch 36/50\n",
            "38/38 [==============================] - 146s 4s/step - loss: 0.1658 - accuracy: 0.9449 - val_loss: 0.1796 - val_accuracy: 0.9489\n",
            "Epoch 37/50\n",
            "38/38 [==============================] - 146s 4s/step - loss: 0.2628 - accuracy: 0.8982 - val_loss: 0.1806 - val_accuracy: 0.9489\n",
            "Epoch 38/50\n",
            "38/38 [==============================] - 149s 4s/step - loss: 0.1695 - accuracy: 0.9366 - val_loss: 0.4309 - val_accuracy: 0.8068\n",
            "Epoch 39/50\n",
            "38/38 [==============================] - 145s 4s/step - loss: 0.1624 - accuracy: 0.9265 - val_loss: 0.1860 - val_accuracy: 0.9432\n",
            "Epoch 40/50\n",
            "38/38 [==============================] - 144s 4s/step - loss: 0.1462 - accuracy: 0.9499 - val_loss: 0.1824 - val_accuracy: 0.9545\n",
            "Epoch 41/50\n",
            "38/38 [==============================] - 146s 4s/step - loss: 0.1755 - accuracy: 0.9416 - val_loss: 0.3578 - val_accuracy: 0.8523\n",
            "Epoch 42/50\n",
            "38/38 [==============================] - 149s 4s/step - loss: 0.1551 - accuracy: 0.9366 - val_loss: 0.2686 - val_accuracy: 0.8977\n",
            "Epoch 43/50\n",
            "38/38 [==============================] - 149s 4s/step - loss: 0.1831 - accuracy: 0.9249 - val_loss: 0.2152 - val_accuracy: 0.9318\n",
            "Epoch 44/50\n",
            "38/38 [==============================] - 146s 4s/step - loss: 0.1412 - accuracy: 0.9516 - val_loss: 0.1925 - val_accuracy: 0.9432\n",
            "Epoch 45/50\n",
            "38/38 [==============================] - 147s 4s/step - loss: 0.2216 - accuracy: 0.9165 - val_loss: 0.4514 - val_accuracy: 0.7898\n",
            "Epoch 46/50\n",
            "38/38 [==============================] - 146s 4s/step - loss: 0.1688 - accuracy: 0.9366 - val_loss: 0.2291 - val_accuracy: 0.9318\n",
            "Epoch 47/50\n",
            "38/38 [==============================] - 146s 4s/step - loss: 0.1306 - accuracy: 0.9516 - val_loss: 0.1972 - val_accuracy: 0.9318\n",
            "Epoch 48/50\n",
            "38/38 [==============================] - 147s 4s/step - loss: 0.1671 - accuracy: 0.9416 - val_loss: 0.1708 - val_accuracy: 0.9432\n",
            "Epoch 49/50\n",
            "38/38 [==============================] - 146s 4s/step - loss: 0.1232 - accuracy: 0.9482 - val_loss: 0.1656 - val_accuracy: 0.9375\n",
            "Epoch 50/50\n",
            "38/38 [==============================] - 151s 4s/step - loss: 0.1516 - accuracy: 0.9482 - val_loss: 0.1715 - val_accuracy: 0.9432\n"
          ],
          "name": "stdout"
        }
      ]
    },
    {
      "cell_type": "markdown",
      "metadata": {
        "id": "qrDoSTv0uTIt",
        "colab_type": "text"
      },
      "source": [
        "# Custom CNN Model\n",
        "\n",
        "In this step, write and train your own convolutional neural network using Keras. You can use any architecture that suits you as long as it has at least one convolutional and one pooling layer at the beginning of the network - you can add more if you want. "
      ]
    },
    {
      "cell_type": "code",
      "metadata": {
        "id": "kwpmCYwhGmZQ",
        "colab_type": "code",
        "colab": {}
      },
      "source": [
        "from tensorflow.keras.models import Sequential"
      ],
      "execution_count": 17,
      "outputs": []
    },
    {
      "cell_type": "code",
      "metadata": {
        "id": "FafMkC7AuTIu",
        "colab_type": "code",
        "colab": {}
      },
      "source": [
        "# Define the Model\n",
        "model2 = Sequential()\n",
        "model2.add(Dense())"
      ],
      "execution_count": null,
      "outputs": []
    },
    {
      "cell_type": "code",
      "metadata": {
        "id": "bLyHzn0JuTIy",
        "colab_type": "code",
        "colab": {}
      },
      "source": [
        "# Compile Model"
      ],
      "execution_count": null,
      "outputs": []
    },
    {
      "cell_type": "code",
      "metadata": {
        "id": "zSg1uMq5uTI3",
        "colab_type": "code",
        "colab": {}
      },
      "source": [
        "# Fit Model"
      ],
      "execution_count": null,
      "outputs": []
    },
    {
      "cell_type": "markdown",
      "metadata": {
        "id": "33ef_PiLuTI6",
        "colab_type": "text"
      },
      "source": [
        "# Custom CNN Model with Image Manipulations\n",
        "\n",
        "To simulate an increase in a sample of image, you can apply image manipulation techniques: cropping, rotation, stretching, etc. Luckily Keras has some handy functions for us to apply these techniques to our mountain and forest example. Simply, you should be able to modify our image generator for the problem. Check out these resources to help you get started: \n",
        "\n",
        "1. [Keras `ImageGenerator` Class](https://keras.io/preprocessing/image/#imagedatagenerator-class)\n",
        "2. [Building a powerful image classifier with very little data](https://blog.keras.io/building-powerful-image-classification-models-using-very-little-data.html)\n",
        " "
      ]
    },
    {
      "cell_type": "code",
      "metadata": {
        "id": "oHF1uBNbuTI7",
        "colab_type": "code",
        "colab": {}
      },
      "source": [
        ""
      ],
      "execution_count": null,
      "outputs": []
    },
    {
      "cell_type": "markdown",
      "metadata": {
        "colab_type": "text",
        "id": "uT3UV3gap9H6"
      },
      "source": [
        "# Resources and Stretch Goals\n",
        "\n",
        "Stretch goals\n",
        "- Enhance your code to use classes/functions and accept terms to search and classes to look for in recognizing the downloaded images (e.g. download images of parties, recognize all that contain balloons)\n",
        "- Check out [other available pretrained networks](https://tfhub.dev), try some and compare\n",
        "- Image recognition/classification is somewhat solved, but *relationships* between entities and describing an image is not - check out some of the extended resources (e.g. [Visual Genome](https://visualgenome.org/)) on the topic\n",
        "- Transfer learning - using images you source yourself, [retrain a classifier](https://www.tensorflow.org/hub/tutorials/image_retraining) with a new category\n",
        "- (Not CNN related) Use [piexif](https://pypi.org/project/piexif/) to check out the metadata of images passed in to your system - see if they're from a national park! (Note - many images lack GPS metadata, so this won't work in most cases, but still cool)\n",
        "\n",
        "Resources\n",
        "- [Deep Residual Learning for Image Recognition](https://arxiv.org/abs/1512.03385) - influential paper (introduced ResNet)\n",
        "- [YOLO: Real-Time Object Detection](https://pjreddie.com/darknet/yolo/) - an influential convolution based object detection system, focused on inference speed (for applications to e.g. self driving vehicles)\n",
        "- [R-CNN, Fast R-CNN, Faster R-CNN, YOLO](https://towardsdatascience.com/r-cnn-fast-r-cnn-faster-r-cnn-yolo-object-detection-algorithms-36d53571365e) - comparison of object detection systems\n",
        "- [Common Objects in Context](http://cocodataset.org/) - a large-scale object detection, segmentation, and captioning dataset\n",
        "- [Visual Genome](https://visualgenome.org/) - a dataset, a knowledge base, an ongoing effort to connect structured image concepts to language"
      ]
    }
  ]
}